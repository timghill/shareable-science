{
 "cells": [
  {
   "cell_type": "markdown",
   "metadata": {},
   "source": [
    "# Your notebook\n",
    "\n",
    "Here explain the purpose of this notebook, the experimental design, and the intended outputs.\n",
    "\n",
    "To run the code, remember that you need to add the `src/` module to your python path. In your `~/.bashrc`.\n",
    "\n",
    "TBD, imports aren't (quite) working yet!"
   ]
  },
  {
   "cell_type": "code",
   "execution_count": 1,
   "metadata": {},
   "outputs": [
    {
     "name": "stdout",
     "output_type": "stream",
     "text": [
      "Hello, binder world!\n"
     ]
    }
   ],
   "source": [
    "print('Hello, binder world!')"
   ]
  }
 ],
 "metadata": {
  "kernelspec": {
   "display_name": "Python 3",
   "language": "python",
   "name": "python3"
  },
  "language_info": {
   "codemirror_mode": {
    "name": "ipython",
    "version": 3
   },
   "file_extension": ".py",
   "mimetype": "text/x-python",
   "name": "python",
   "nbconvert_exporter": "python",
   "pygments_lexer": "ipython3",
   "version": "3.8.10"
  }
 },
 "nbformat": 4,
 "nbformat_minor": 4
}
